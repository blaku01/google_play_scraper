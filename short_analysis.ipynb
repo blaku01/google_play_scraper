{
 "cells": [
  {
   "cell_type": "code",
   "execution_count": 1,
   "id": "318f7536",
   "metadata": {},
   "outputs": [],
   "source": [
    "import pandas as pd"
   ]
  },
  {
   "cell_type": "code",
   "execution_count": 2,
   "id": "373c1916",
   "metadata": {},
   "outputs": [],
   "source": [
    "import matplotlib.pyplot as plt"
   ]
  },
  {
   "cell_type": "code",
   "execution_count": 3,
   "id": "a352f887",
   "metadata": {},
   "outputs": [],
   "source": [
    "import seaborn as sns"
   ]
  },
  {
   "cell_type": "code",
   "execution_count": 4,
   "id": "eb470613",
   "metadata": {},
   "outputs": [],
   "source": [
    "df = pd.read_csv(\"short_game.csv\")"
   ]
  },
  {
   "cell_type": "code",
   "execution_count": 5,
   "id": "b7c2828b",
   "metadata": {},
   "outputs": [
    {
     "data": {
      "text/html": [
       "<div>\n",
       "<style scoped>\n",
       "    .dataframe tbody tr th:only-of-type {\n",
       "        vertical-align: middle;\n",
       "    }\n",
       "\n",
       "    .dataframe tbody tr th {\n",
       "        vertical-align: top;\n",
       "    }\n",
       "\n",
       "    .dataframe thead th {\n",
       "        text-align: right;\n",
       "    }\n",
       "</style>\n",
       "<table border=\"1\" class=\"dataframe\">\n",
       "  <thead>\n",
       "    <tr style=\"text-align: right;\">\n",
       "      <th></th>\n",
       "      <th>title</th>\n",
       "      <th>firm</th>\n",
       "      <th>genre</th>\n",
       "      <th>num_of_reviews</th>\n",
       "      <th>price</th>\n",
       "      <th>stars</th>\n",
       "      <th>description_lenght</th>\n",
       "      <th>PEGI</th>\n",
       "    </tr>\n",
       "  </thead>\n",
       "  <tbody>\n",
       "    <tr>\n",
       "      <th>0</th>\n",
       "      <td>Roblox</td>\n",
       "      <td>Roblox Corporation</td>\n",
       "      <td>Przygodowe</td>\n",
       "      <td>22813303</td>\n",
       "      <td>Zainstaluj</td>\n",
       "      <td>4.4</td>\n",
       "      <td>1678</td>\n",
       "      <td>7</td>\n",
       "    </tr>\n",
       "    <tr>\n",
       "      <th>1</th>\n",
       "      <td>Świat Małej Pandy</td>\n",
       "      <td>BabyBus</td>\n",
       "      <td>Edukacyjne</td>\n",
       "      <td>262463</td>\n",
       "      <td>Zainstaluj</td>\n",
       "      <td>4.3</td>\n",
       "      <td>2907</td>\n",
       "      <td>3</td>\n",
       "    </tr>\n",
       "    <tr>\n",
       "      <th>2</th>\n",
       "      <td>Zombie Catchers 🧟</td>\n",
       "      <td>Deca Games</td>\n",
       "      <td>Akcja</td>\n",
       "      <td>1834617</td>\n",
       "      <td>Zainstaluj</td>\n",
       "      <td>4.4</td>\n",
       "      <td>3106</td>\n",
       "      <td>7</td>\n",
       "    </tr>\n",
       "    <tr>\n",
       "      <th>3</th>\n",
       "      <td>Paint By Number - Darmowa kolorowanka i łamigł...</td>\n",
       "      <td>Better Life - Color and Draw</td>\n",
       "      <td>Planszowe</td>\n",
       "      <td>1369704</td>\n",
       "      <td>Zainstaluj</td>\n",
       "      <td>4.6</td>\n",
       "      <td>2627</td>\n",
       "      <td>3</td>\n",
       "    </tr>\n",
       "    <tr>\n",
       "      <th>4</th>\n",
       "      <td>Tomb of the Mask</td>\n",
       "      <td>Playgendary Limited</td>\n",
       "      <td>Akcja</td>\n",
       "      <td>1645379</td>\n",
       "      <td>Zainstaluj</td>\n",
       "      <td>4.4</td>\n",
       "      <td>858</td>\n",
       "      <td>3</td>\n",
       "    </tr>\n",
       "  </tbody>\n",
       "</table>\n",
       "</div>"
      ],
      "text/plain": [
       "                                               title  \\\n",
       "0                                             Roblox   \n",
       "1                                  Świat Małej Pandy   \n",
       "2                                  Zombie Catchers 🧟   \n",
       "3  Paint By Number - Darmowa kolorowanka i łamigł...   \n",
       "4                                   Tomb of the Mask   \n",
       "\n",
       "                           firm       genre  num_of_reviews       price  \\\n",
       "0            Roblox Corporation  Przygodowe        22813303  Zainstaluj   \n",
       "1                       BabyBus  Edukacyjne          262463  Zainstaluj   \n",
       "2                    Deca Games       Akcja         1834617  Zainstaluj   \n",
       "3  Better Life - Color and Draw   Planszowe         1369704  Zainstaluj   \n",
       "4           Playgendary Limited       Akcja         1645379  Zainstaluj   \n",
       "\n",
       "   stars  description_lenght  PEGI  \n",
       "0    4.4                1678     7  \n",
       "1    4.3                2907     3  \n",
       "2    4.4                3106     7  \n",
       "3    4.6                2627     3  \n",
       "4    4.4                 858     3  "
      ]
     },
     "execution_count": 5,
     "metadata": {},
     "output_type": "execute_result"
    }
   ],
   "source": [
    "df.head()"
   ]
  },
  {
   "cell_type": "code",
   "execution_count": 6,
   "id": "ebf74a7f",
   "metadata": {},
   "outputs": [
    {
     "data": {
      "text/plain": [
       "Akcja            52\n",
       "Rekreacyjne      44\n",
       "Edukacyjne       41\n",
       "Fabularne        31\n",
       "Strategie        27\n",
       "Łamigłówki       20\n",
       "Przygodowe       18\n",
       "Sport            18\n",
       "Symulacyjne      17\n",
       "Zręcznościowe    15\n",
       "Planszowe         9\n",
       "Karciane          6\n",
       "Wyścigi           5\n",
       "Słowne            2\n",
       "Muzyka            1\n",
       "Quizy             1\n",
       "Name: genre, dtype: int64"
      ]
     },
     "execution_count": 6,
     "metadata": {},
     "output_type": "execute_result"
    }
   ],
   "source": [
    "df.genre.value_counts()"
   ]
  },
  {
   "cell_type": "code",
   "execution_count": 37,
   "id": "885dfbb6",
   "metadata": {},
   "outputs": [],
   "source": [
    "df.price = df.price.str.replace(\"Kup za \", \"\").str.replace(\",\",\".\").str.replace(\"zł\",\"\").str.replace(\"Zainstaluj\",\"0\").str.replace('\\s+', '', regex=True)"
   ]
  },
  {
   "cell_type": "code",
   "execution_count": 38,
   "id": "233b1440",
   "metadata": {},
   "outputs": [
    {
     "data": {
      "text/plain": [
       "0      0.0\n",
       "1      0.0\n",
       "2      0.0\n",
       "3      0.0\n",
       "4      0.0\n",
       "      ... \n",
       "302    0.0\n",
       "303    0.0\n",
       "304    0.0\n",
       "305    0.0\n",
       "306    0.0\n",
       "Name: price, Length: 307, dtype: float64"
      ]
     },
     "execution_count": 38,
     "metadata": {},
     "output_type": "execute_result"
    }
   ],
   "source": [
    "pd.to_numeric(df.price)"
   ]
  },
  {
   "cell_type": "code",
   "execution_count": 39,
   "id": "1d5d6cd6",
   "metadata": {},
   "outputs": [
    {
     "data": {
      "text/plain": [
       "0         251\n",
       "23.99       2\n",
       "28.99       1\n",
       "114.99      1\n",
       "2.99        1\n",
       "21.99       1\n",
       "19.99       1\n",
       "47.99       1\n",
       "Name: price, dtype: int64"
      ]
     },
     "execution_count": 39,
     "metadata": {},
     "output_type": "execute_result"
    }
   ],
   "source": [
    "df.price.value_counts()"
   ]
  },
  {
   "cell_type": "code",
   "execution_count": 65,
   "id": "57955914",
   "metadata": {},
   "outputs": [
    {
     "data": {
      "image/png": "[encoded data removed]",
      "text/plain": [
       "<Figure size 432x288 with 1 Axes>"
      ]
     },
     "metadata": {
      "needs_background": "light"
     },
     "output_type": "display_data"
    }
   ],
   "source": [
    "model = df.loc[df['genre'] == 'Akcja']\n",
    "plt.bar(model.num_of_reviews, model.stars)\n",
    "plt.show()"
   ]
  },
  {
   "cell_type": "code",
   "execution_count": null,
   "id": "8479612a",
   "metadata": {},
   "outputs": [],
   "source": []
  },
  {
   "cell_type": "code",
   "execution_count": null,
   "id": "a1ba4c60",
   "metadata": {},
   "outputs": [],
   "source": []
  },
  {
   "cell_type": "code",
   "execution_count": null,
   "id": "cb93603b",
   "metadata": {},
   "outputs": [],
   "source": []
  }
 ],
 "metadata": {
  "kernelspec": {
   "display_name": "Python 3",
   "language": "python",
   "name": "python3"
  },
  "language_info": {
   "codemirror_mode": {
    "name": "ipython",
    "version": 3
   },
   "file_extension": ".py",
   "mimetype": "text/x-python",
   "name": "python",
   "nbconvert_exporter": "python",
   "pygments_lexer": "ipython3",
   "version": "3.8.8"
  }
 },
 "nbformat": 4,
 "nbformat_minor": 5
}
